{
  "nbformat": 4,
  "nbformat_minor": 0,
  "metadata": {
    "colab": {
      "provenance": [],
      "authorship_tag": "ABX9TyOEvl5bz2C+6ZYBZUAXc185",
      "include_colab_link": true
    },
    "kernelspec": {
      "name": "python3",
      "display_name": "Python 3"
    },
    "language_info": {
      "name": "python"
    }
  },
  "cells": [
    {
      "cell_type": "markdown",
      "metadata": {
        "id": "view-in-github",
        "colab_type": "text"
      },
      "source": [
        "<a href=\"https://colab.research.google.com/github/Eliezer19Garcia/Machine_Learning/blob/main/Metrics_evaluate_clustering(ML_S11).ipynb\" target=\"_parent\"><img src=\"https://colab.research.google.com/assets/colab-badge.svg\" alt=\"Open In Colab\"/></a>"
      ]
    },
    {
      "cell_type": "code",
      "execution_count": null,
      "metadata": {
        "id": "l0ryrI-Y8BMF"
      },
      "outputs": [],
      "source": [
        "import pandas as pd\n",
        "import numpy as np\n",
        "import matplotlib\n",
        "import matplotlib.pyplot as plt\n",
        "\n",
        "np.random.seed(42)"
      ]
    },
    {
      "cell_type": "code",
      "source": [
        "from sklearn.datasets import fetch_20newsgroups_vectorized, fetch_20newsgroups"
      ],
      "metadata": {
        "id": "xqVT5nLD8cNo"
      },
      "execution_count": null,
      "outputs": []
    },
    {
      "cell_type": "code",
      "source": [
        "news_20 = fetch_20newsgroups()\n"
      ],
      "metadata": {
        "id": "CHXviwiW8hvB"
      },
      "execution_count": null,
      "outputs": []
    },
    {
      "cell_type": "code",
      "source": [
        "news_20.data[:2]\n",
        "fetch_20newsgroups_vectorized?\n",
        "datos = fetch_20newsgroups_vectorized()\n",
        "noticias = datos.data"
      ],
      "metadata": {
        "id": "dQO71kmwVQBl"
      },
      "execution_count": null,
      "outputs": []
    },
    {
      "cell_type": "code",
      "source": [
        "noticias.shape"
      ],
      "metadata": {
        "colab": {
          "base_uri": "https://localhost:8080/"
        },
        "id": "HcLhHzAoVdsz",
        "outputId": "96ec1822-3eaa-4544-d03f-a7a7bd2762a2"
      },
      "execution_count": null,
      "outputs": [
        {
          "output_type": "execute_result",
          "data": {
            "text/plain": [
              "(11314, 130107)"
            ]
          },
          "metadata": {},
          "execution_count": 9
        }
      ]
    },
    {
      "cell_type": "code",
      "source": [
        "\n",
        "print(len(datos.target_names))\n",
        "datos.target_names"
      ],
      "metadata": {
        "colab": {
          "base_uri": "https://localhost:8080/"
        },
        "id": "TYVWzmycV-XI",
        "outputId": "1068df6f-c531-4a97-fa39-03d1b8bf66c7"
      },
      "execution_count": null,
      "outputs": [
        {
          "output_type": "stream",
          "name": "stdout",
          "text": [
            "20\n"
          ]
        },
        {
          "output_type": "execute_result",
          "data": {
            "text/plain": [
              "['alt.atheism',\n",
              " 'comp.graphics',\n",
              " 'comp.os.ms-windows.misc',\n",
              " 'comp.sys.ibm.pc.hardware',\n",
              " 'comp.sys.mac.hardware',\n",
              " 'comp.windows.x',\n",
              " 'misc.forsale',\n",
              " 'rec.autos',\n",
              " 'rec.motorcycles',\n",
              " 'rec.sport.baseball',\n",
              " 'rec.sport.hockey',\n",
              " 'sci.crypt',\n",
              " 'sci.electronics',\n",
              " 'sci.med',\n",
              " 'sci.space',\n",
              " 'soc.religion.christian',\n",
              " 'talk.politics.guns',\n",
              " 'talk.politics.mideast',\n",
              " 'talk.politics.misc',\n",
              " 'talk.religion.misc']"
            ]
          },
          "metadata": {},
          "execution_count": 15
        }
      ]
    },
    {
      "cell_type": "code",
      "source": [
        "from sklearn.cluster import MiniBatchKMeans"
      ],
      "metadata": {
        "id": "E6hl7DvGVjG9"
      },
      "execution_count": null,
      "outputs": []
    },
    {
      "cell_type": "code",
      "source": [
        "estimador = MiniBatchKMeans(n_clusters=20)\n",
        "estimador.fit(noticias)\n",
        "etiquetas_pred = estimador.labels_"
      ],
      "metadata": {
        "id": "qTaQxCQqVnRt"
      },
      "execution_count": null,
      "outputs": []
    },
    {
      "cell_type": "code",
      "source": [
        "etiquetas_pred"
      ],
      "metadata": {
        "colab": {
          "base_uri": "https://localhost:8080/"
        },
        "id": "t_Y7H7iuV0pf",
        "outputId": "b0084549-996f-4474-870e-8b1bc26d6a97"
      },
      "execution_count": null,
      "outputs": [
        {
          "output_type": "execute_result",
          "data": {
            "text/plain": [
              "array([ 9,  8, 12, ..., 16,  1, 12], dtype=int32)"
            ]
          },
          "metadata": {},
          "execution_count": 12
        }
      ]
    },
    {
      "cell_type": "markdown",
      "source": [
        "### Medidas de evaluación externa\n",
        "Son aquellas en las que las etiquetas de clusters son conocidas de antemano."
      ],
      "metadata": {
        "id": "jOXECchqV3oN"
      }
    },
    {
      "cell_type": "code",
      "source": [
        "clases = datos.target\n"
      ],
      "metadata": {
        "id": "2tZrIJMbWQXM"
      },
      "execution_count": null,
      "outputs": []
    },
    {
      "cell_type": "code",
      "source": [
        "from sklearn.metrics import homogeneity_completeness_v_measure, adjusted_rand_score"
      ],
      "metadata": {
        "id": "wHnMIwuHWn7V"
      },
      "execution_count": null,
      "outputs": []
    },
    {
      "cell_type": "markdown",
      "source": [
        "La función homogeneity_completeness_v_measure nos devuelve una tupla con la homogeneidad, la completación y la medida v"
      ],
      "metadata": {
        "id": "6zVzTlGaW342"
      }
    },
    {
      "cell_type": "code",
      "source": [
        "homogeneity_completeness_v_measure(clases, etiquetas_pred) #homogeneity , completeness , and vmeasure(has to be near to 1 to be a good model)"
      ],
      "metadata": {
        "colab": {
          "base_uri": "https://localhost:8080/"
        },
        "id": "aC-Pf3ESW7tA",
        "outputId": "c8ee683c-776b-41af-c51f-91ccb4546fcf"
      },
      "execution_count": null,
      "outputs": [
        {
          "output_type": "execute_result",
          "data": {
            "text/plain": [
              "(np.float64(0.07888488977731375),\n",
              " np.float64(0.09053375607377358),\n",
              " np.float64(0.08430884727154726))"
            ]
          },
          "metadata": {},
          "execution_count": 21
        }
      ]
    },
    {
      "cell_type": "markdown",
      "source": [
        "Vemos que estos clusters tienen mas completación que homogeneidad (es decir, los clusters son menos homogéneos que la homogeneidad de la distribución de las clases en clusters.\n",
        "\n",
        "El v-measure tiene un rango de (0, 1) con lo cual estos clusters no son muy buenos.\n",
        "\n",
        "Un problema que tiene el criterio de homogeneidad y completación es que no son invariantes del orden de las clases."
      ],
      "metadata": {
        "id": "C9GeKGdcX5Ee"
      }
    },
    {
      "cell_type": "markdown",
      "source": [
        "Para datasets de menos de 1000 observaciones o para un número de clusters mayor que 10, se recomienda usar el Indice de Rand ajustado, adjusted_rand_score."
      ],
      "metadata": {
        "id": "FY-JQopIYPDq"
      }
    },
    {
      "cell_type": "code",
      "source": [
        "adjusted_rand_score(clases, etiquetas_pred)"
      ],
      "metadata": {
        "colab": {
          "base_uri": "https://localhost:8080/"
        },
        "id": "u9sXu425eMlF",
        "outputId": "976e2324-1e8e-40c5-f045-24d76b37d375"
      },
      "execution_count": null,
      "outputs": [
        {
          "output_type": "execute_result",
          "data": {
            "text/plain": [
              "0.028039527074345708"
            ]
          },
          "metadata": {},
          "execution_count": 22
        }
      ]
    },
    {
      "cell_type": "markdown",
      "source": [
        "La métrica ARI tiene un rango de (-1,1) asi que pese a que este grupo de clusters no es el peor, no es muy bueno\n",
        "\n",
        "Podemos usar medidas de evaluación externa para hacer validación cruzada como haríamos con cualquier problema de regresión/clasificación.\n",
        "\n",
        "Métricas definidas en cross_val_score incluyen:\n",
        "\n",
        "-   adjusted_rand_score\n",
        "-   completeness_score\n",
        "-   homogeneity_score\n",
        "-   v_measure_score"
      ],
      "metadata": {
        "id": "4ileuatIeTQb"
      }
    },
    {
      "cell_type": "code",
      "source": [
        "from sklearn.model_selection import cross_val_score"
      ],
      "metadata": {
        "id": "S5Wa6pSKeXdF"
      },
      "execution_count": null,
      "outputs": []
    },
    {
      "cell_type": "code",
      "source": [
        "resultados = cross_val_score(estimador, noticias, clases, scoring='adjusted_rand_score', cv=5)"
      ],
      "metadata": {
        "id": "iY0oPEn6eloJ"
      },
      "execution_count": null,
      "outputs": []
    },
    {
      "cell_type": "code",
      "source": [
        "resultados.mean()"
      ],
      "metadata": {
        "colab": {
          "base_uri": "https://localhost:8080/"
        },
        "id": "CV4BGaioexOC",
        "outputId": "3a8ab00e-f089-41ed-ebca-2bcd3b1448d0"
      },
      "execution_count": null,
      "outputs": [
        {
          "output_type": "execute_result",
          "data": {
            "text/plain": [
              "np.float64(0.026674084479600714)"
            ]
          },
          "metadata": {},
          "execution_count": 25
        }
      ]
    },
    {
      "cell_type": "markdown",
      "source": [
        "##Medidas de evaluación interna\n",
        "Dichas medidas se usan cuando las clases verdaderas no se conocen de antemano"
      ],
      "metadata": {
        "id": "cD_IjGkUezAS"
      }
    },
    {
      "cell_type": "code",
      "source": [
        "from sklearn.metrics import silhouette_score"
      ],
      "metadata": {
        "id": "xsUDi522e3Kz"
      },
      "execution_count": null,
      "outputs": []
    },
    {
      "cell_type": "markdown",
      "source": [
        "Estas medidas internas se usan en sklearn pasando dos argumentos, el dataset de entrenamiento y las etiquetas de los clusters.\n",
        "\n",
        "En primer lugar tenemos el Coeficiente de Silueta (silhouette_score)"
      ],
      "metadata": {
        "id": "Z0F0U8I9e5rR"
      }
    },
    {
      "cell_type": "code",
      "source": [
        "silhouette_score(noticias, etiquetas_pred) # The conclusion is that isnt a good idea take 20 clusters"
      ],
      "metadata": {
        "colab": {
          "base_uri": "https://localhost:8080/"
        },
        "id": "1AplSNmJe7xN",
        "outputId": "0104c98c-5fe5-442c-f6d0-4bcccdf04f0c"
      },
      "execution_count": null,
      "outputs": [
        {
          "output_type": "execute_result",
          "data": {
            "text/plain": [
              "np.float64(-0.04858106380375954)"
            ]
          },
          "metadata": {},
          "execution_count": 27
        }
      ]
    },
    {
      "cell_type": "code",
      "source": [
        "for k in [5,10,20,30]:\n",
        "    estimador = MiniBatchKMeans(n_clusters=k)\n",
        "    estimador.fit(noticias)\n",
        "    etiquetas_pred = estimador.labels_\n",
        "    print(f\"{(k,silhouette_score(noticias, etiquetas_pred))}\")"
      ],
      "metadata": {
        "colab": {
          "base_uri": "https://localhost:8080/"
        },
        "id": "tjwPe7_AfiRO",
        "outputId": "628d0163-efc6-48f1-cf37-bf4d78074dfc"
      },
      "execution_count": null,
      "outputs": [
        {
          "output_type": "stream",
          "name": "stdout",
          "text": [
            "(5, np.float64(-0.010166656407493965))\n",
            "(10, np.float64(-0.04918373746067698))\n",
            "(20, np.float64(-0.0686532661525218))\n",
            "(30, np.float64(-0.09293934154974755))\n"
          ]
        }
      ]
    }
  ]
}